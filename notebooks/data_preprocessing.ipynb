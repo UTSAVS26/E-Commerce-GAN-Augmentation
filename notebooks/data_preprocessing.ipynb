{
 "cells": [
  {
   "cell_type": "code",
   "execution_count": null,
   "id": "a31fb165-817e-4691-981e-d7527406c03e",
   "metadata": {},
   "outputs": [],
   "source": [
    "import os\n",
    "import cv2\n",
    "import numpy as np\n",
    "from glob import glob\n",
    "from sklearn.model_selection import train_test_split\n",
    "\n",
    "# Directories\n",
    "raw_data_dir = 'data/raw/'\n",
    "processed_data_dir = 'data/processed/'\n",
    "\n",
    "# Parameters\n",
    "img_size = 256\n",
    "\n",
    "def preprocess_image(image_path):\n",
    "    img = cv2.imread(image_path)\n",
    "    img = cv2.resize(img, (img_size, img_size))\n",
    "    img = img / 255.0\n",
    "    return img\n",
    "\n",
    "def save_image(image, save_path):\n",
    "    img = (image * 255).astype(np.uint8)\n",
    "    cv2.imwrite(save_path, img)\n",
    "\n",
    "# Preprocess images\n",
    "image_paths = glob(os.path.join(raw_data_dir, '*.jpg'))\n",
    "images = np.array([preprocess_image(p) for p in image_paths])\n",
    "\n",
    "# Save processed images\n",
    "for i, img in enumerate(images):\n",
    "    save_image(img, os.path.join(processed_data_dir, f'image_{i}.jpg'))\n",
    "\n",
    "# Split data into train, validation, test\n",
    "train_images, test_images = train_test_split(images, test_size=0.2, random_state=42)\n",
    "train_images, val_images = train_test_split(train_images, test_size=0.1, random_state=42)\n",
    "\n",
    "np.save(os.path.join(processed_data_dir, 'train_images.npy'), train_images)\n",
    "np.save(os.path.join(processed_data_dir, 'val_images.npy'), val_images)\n",
    "np.save(os.path.join(processed_data_dir, 'test_images.npy'), test_images)"
   ]
  }
 ],
 "metadata": {
  "kernelspec": {
   "display_name": "Python 3 (ipykernel)",
   "language": "python",
   "name": "python3"
  },
  "language_info": {
   "codemirror_mode": {
    "name": "ipython",
    "version": 3
   },
   "file_extension": ".py",
   "mimetype": "text/x-python",
   "name": "python",
   "nbconvert_exporter": "python",
   "pygments_lexer": "ipython3",
   "version": "3.12.2"
  }
 },
 "nbformat": 4,
 "nbformat_minor": 5
}
