{
 "cells": [
  {
   "cell_type": "code",
   "execution_count": null,
   "id": "efea471b-a913-4b21-b660-7c13379fbc21",
   "metadata": {},
   "outputs": [],
   "source": [
    "import numpy as np\n",
    "import matplotlib.pyplot as plt\n",
    "from tensorflow.keras.models import load_model\n",
    "\n",
    "# Directories\n",
    "models_dir = 'models/trained_model/'\n",
    "processed_data_dir = 'data/processed/'\n",
    "\n",
    "# Load models\n",
    "generator = load_model(os.path.join(models_dir, 'generator.h5'))\n",
    "\n",
    "# Parameters\n",
    "latent_dim = 100\n",
    "\n",
    "# Generate and visualize images\n",
    "def generate_images(generator, num_images):\n",
    "    noise = np.random.normal(0, 1, (num_images, latent_dim))\n",
    "    gen_images = generator.predict(noise)\n",
    "    return gen_images\n",
    "\n",
    "num_images = 10\n",
    "gen_images = generate_images(generator, num_images)\n",
    "\n",
    "plt.figure(figsize=(10, 10))\n",
    "for i in range(num_images):\n",
    "    plt.subplot(1, num_images, i+1)\n",
    "    plt.imshow((gen_images[i] * 127.5 + 127.5).astype(np.uint8))\n",
    "    plt.axis('off')\n",
    "plt.show()"
   ]
  }
 ],
 "metadata": {
  "kernelspec": {
   "display_name": "Python 3 (ipykernel)",
   "language": "python",
   "name": "python3"
  },
  "language_info": {
   "codemirror_mode": {
    "name": "ipython",
    "version": 3
   },
   "file_extension": ".py",
   "mimetype": "text/x-python",
   "name": "python",
   "nbconvert_exporter": "python",
   "pygments_lexer": "ipython3",
   "version": "3.12.2"
  }
 },
 "nbformat": 4,
 "nbformat_minor": 5
}
